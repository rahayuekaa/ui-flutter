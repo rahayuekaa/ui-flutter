{
  "nbformat": 4,
  "nbformat_minor": 0,
  "metadata": {
    "colab": {
      "provenance": [],
      "toc_visible": true
    },
    "kernelspec": {
      "name": "python3",
      "display_name": "Python 3"
    },
    "language_info": {
      "name": "python"
    }
  },
  "cells": [
    {
      "cell_type": "markdown",
      "source": [
        "# Source code awal 🌵\n",
        "`Berserta penjelasan di tiap source code`"
      ],
      "metadata": {
        "id": "lNWejv6RrcAT"
      }
    },
    {
      "cell_type": "code",
      "source": [
        "odd=[x for x in range(1,100+1) if x %2!=0] \n",
        "squares=[x**2 for x in odd] \n",
        "total=sum(squares) \n",
        "ratarata=total/len(squares) \n",
        "print(total)\n",
        "print(ratarata)"
      ],
      "metadata": {
        "id": "Q4MNFOHXqdJJ",
        "colab": {
          "base_uri": "https://localhost:8080/"
        },
        "outputId": "7392ab36-5da1-4b52-8255-dc6a4de093c7"
      },
      "execution_count": null,
      "outputs": [
        {
          "output_type": "stream",
          "name": "stdout",
          "text": [
            "166650\n",
            "3333.0\n"
          ]
        }
      ]
    },
    {
      "cell_type": "code",
      "source": [
        "a = int(input(\"masukan a= \")) #masukkan angka\n",
        "if a<100: #melakukan pengecekan apakah nilai a kurang dari 100\n",
        "    print('small value') #jika bernilai true maka akan menampilkan small value\n",
        "else:\n",
        "    print('big value') #jika bernilai false maka akan menampilkan big value"
      ],
      "metadata": {
        "colab": {
          "base_uri": "https://localhost:8080/"
        },
        "id": "oMiZmOEoncOi",
        "outputId": "979f1f76-6499-46a6-d5af-73bb0505551f"
      },
      "execution_count": null,
      "outputs": [
        {
          "output_type": "stream",
          "name": "stdout",
          "text": [
            "masukan a= 20\n",
            "small value\n"
          ]
        }
      ]
    },
    {
      "cell_type": "code",
      "source": [
        "while True: #akan terus melakukan perulangan selama kondisi true terpenuhi\n",
        "  a = int(input(\"masukan a= \")) #masukkan nilai a\n",
        "  if a<100: #melakukan pengecekan apakah nilai a < 100\n",
        "    print('small value') # jika bernilai true akan menampilkan small value\n",
        "  else:\n",
        "    print('big value') #jika bernilai false akan menampilkan big value\n",
        "    break"
      ],
      "metadata": {
        "colab": {
          "base_uri": "https://localhost:8080/"
        },
        "id": "fLY43qi9ofrJ",
        "outputId": "ad385311-153c-4530-cd6d-f0866cbd1d39"
      },
      "execution_count": null,
      "outputs": [
        {
          "output_type": "stream",
          "name": "stdout",
          "text": [
            "masukan a= 90\n",
            "small value\n",
            "masukan a= 92\n",
            "small value\n",
            "masukan a= 98\n",
            "small value\n",
            "masukan a= 101\n",
            "big value\n"
          ]
        }
      ]
    },
    {
      "cell_type": "code",
      "source": [
        "pas= input(\"password= \") #masukkan password\n",
        "panjang=len(pas)>=5 #dengan ketentuan akan bernilai True jika panjang password >= 5\n",
        "c8=\"8\" in pas #bernilai True jika password mengandung angka 8\n",
        "cx= \"X\" in pas #bernilai True jika password terdapat karakter \"X\"\n",
        "char=\"@\" in pas #bernilai True jika password terdapat karakter \"@\"\n",
        "\n",
        "#dilakukan pengecekan dari urutan yang paling atas\n",
        "if panjang!=True:\n",
        "    print(\"terlalu pendek\") #jika panjang password kurang dari 5 karakter, maka akan mencetak output \"terlalu pendek\"\n",
        "elif c8!=True:\n",
        "    print(\"harus mengandung 8\") #jika password tidak mengandung angka 8, maka akan mencetak \"harus mengandung 8\"\n",
        "elif cx!=True:\n",
        "    print(\"harus mengandng X\") #jika password tidak mengandung huruf X, maka akan mencetak \"harus mengandung X\"\n",
        "elif char!=True:\n",
        "    print(\"harus mengandng @\") #jika password tidak mengandung karakter @, maka akan mencetak \"harus mengandung @\"\n",
        "else:\n",
        "    print(\"password valid\") #jika password memenuhi semua kondisi maka akan mencetak output \"password valid\""
      ],
      "metadata": {
        "colab": {
          "base_uri": "https://localhost:8080/"
        },
        "id": "cj24khymFFdK",
        "outputId": "66e4ec03-2534-40c7-bd46-00014f541fba"
      },
      "execution_count": null,
      "outputs": [
        {
          "output_type": "stream",
          "name": "stdout",
          "text": [
            "password= kampusmerdeka\n",
            "harus mengandung 8\n"
          ]
        }
      ]
    },
    {
      "cell_type": "code",
      "source": [
        "count=0 #variabel count untuk menyimpan jumlah string yang memenuhi kondisi\n",
        "contoh_list=['acc', 'xyz', 'aba', '121']\n",
        "for i in range(len(contoh_list)):\n",
        "\n",
        "  #arti dari [i][0] adalah membaca karakter pertama\n",
        "  #arti dari [i][-1] adalah membaca karakter yang paling terahkir\n",
        "    if(contoh_list[i][0] == contoh_list[i][-1]): #memeriksa apakah karakter pertama = karakter terakhir\n",
        "        count += 1 #jika bernilai True maka ditambah 1\n",
        "print('jumlah string yg sama=',count) #menampilkan jumlah string yang sama"
      ],
      "metadata": {
        "colab": {
          "base_uri": "https://localhost:8080/"
        },
        "id": "LOs66iMXqnR0",
        "outputId": "2397c6d7-b10e-4929-866a-b9cc9c3f5562"
      },
      "execution_count": null,
      "outputs": [
        {
          "output_type": "stream",
          "name": "stdout",
          "text": [
            "jumlah string yg sama= 2\n"
          ]
        }
      ]
    },
    {
      "cell_type": "code",
      "source": [
        "while True:\n",
        "    kata=input(\"masukan kata= \") #masukkan kata\n",
        "    if kata == kata[::-1]: #tanda :: artinya membaca data dari belakang\n",
        "        print(\"string merupakan palidrom\") #jika bernilai True maka akan menampilkan \"string merupakan palidrom\"\n",
        "        break\n",
        "    else:\n",
        "        print(\"string bukan palidrom\") #jika kata yang dimasukkan bernilai false maka akan menampilkan \"string bukan palidrom\""
      ],
      "metadata": {
        "colab": {
          "base_uri": "https://localhost:8080/"
        },
        "id": "KIAz0YraGEJe",
        "outputId": "d1298e25-69e0-4e1b-8b16-edcdefca5b65"
      },
      "execution_count": null,
      "outputs": [
        {
          "output_type": "stream",
          "name": "stdout",
          "text": [
            "masukan kata= sayur\n",
            "string bukan palidrom\n",
            "masukan kata= ini\n",
            "string merupakan palidrom\n"
          ]
        }
      ]
    },
    {
      "cell_type": "code",
      "source": [
        "def hitung(s): #function untuk menghitung banyaknya huruf besar dan kecil\n",
        "    d={'upper':0,'lower':0} #kondisi awal bernilai 0\n",
        "    for x in s:\n",
        "        if x.isupper(): #untuk memeriksa apakah karakter x huruf kapital\n",
        "            d['upper']+=1 #jika bernilai True maka akan ditambah 1\n",
        "        elif x.islower(): #akan memeriksa apakah karakter x huruf kecil\n",
        "            d['lower']+=1 #jika bernilai True maka akan ditambah 1\n",
        "\n",
        "    print('string kalimat:', s) #menampilkan input kalimat yang disimpan dalam parameter s\n",
        "    print('jumlah huruf kapital:',d['upper']) #mencetak jumlah huruf kapital\n",
        "    print('jumlah huruf kecil',d['lower']) #mencetak jumlah huruf kecil\n",
        "hitung('aAsssSWWWJHSJ') #menjalankan function dengan string sebagai input"
      ],
      "metadata": {
        "id": "79-V6Hg-GzsE",
        "outputId": "e7b1a9df-5abc-4090-e066-d982e78d0458",
        "colab": {
          "base_uri": "https://localhost:8080/"
        }
      },
      "execution_count": null,
      "outputs": [
        {
          "output_type": "stream",
          "name": "stdout",
          "text": [
            "string kalimat: aAsssSWWWJHSJ\n",
            "jumlah huruf kapital: 9\n",
            "jumlah huruf kecil 4\n"
          ]
        }
      ]
    },
    {
      "cell_type": "code",
      "source": [
        "#Kata ganjil\n",
        "list1=[\"ada\",\"sapa\",\"warga\",\"kanopi\",\"layang\",\"tamu\",\"kampus\"] \n",
        "for i in list1: \n",
        "    if len(i)%2==1: #memeriksa panjang apakah panjang string adalah ganjil\n",
        "        print(i,end=\" \")"
      ],
      "metadata": {
        "colab": {
          "base_uri": "https://localhost:8080/"
        },
        "id": "CrkyyQgmGFJR",
        "outputId": "d6ad3e13-6c29-4932-ceee-38ea5c8cfc18"
      },
      "execution_count": null,
      "outputs": [
        {
          "output_type": "stream",
          "name": "stdout",
          "text": [
            "ada warga "
          ]
        }
      ]
    },
    {
      "cell_type": "code",
      "source": [
        "#kata genap\n",
        "list1=[\"ada\",\"sapa\",\"warga\",\"kanopi\",\"layang\",\"tamu\"]\n",
        "for i in list1:\n",
        "    if len(i)%2==0: #memeriksa panjang apakah panjang string adalah genap\n",
        "        print(i,end=\" \")"
      ],
      "metadata": {
        "colab": {
          "base_uri": "https://localhost:8080/"
        },
        "id": "EolCEUTjsQSH",
        "outputId": "d61492b1-6e00-43d3-fae0-cdc5e6354bbf"
      },
      "execution_count": null,
      "outputs": [
        {
          "output_type": "stream",
          "name": "stdout",
          "text": [
            "sapa kanopi layang tamu "
          ]
        }
      ]
    },
    {
      "cell_type": "markdown",
      "source": [
        "#Belajar Python 🚀"
      ],
      "metadata": {
        "id": "1Gr-fA6GsTwj"
      }
    },
    {
      "cell_type": "code",
      "source": [
        "score = float(input(\"Masukan IPK Anda = \"))\n",
        "if score >= 3.5: \n",
        "    print(\"Predikat IPK Anda = Cum Laude\")\n",
        "elif score >= 3.0:\n",
        "    print(\"Predikat IPK Anda = Sangat memuaskan\")\n",
        "elif score >= 2.75:\n",
        "    print(\"Predikat IPK Anda = Memuaskan\")\n",
        "elif score >= 2.0:\n",
        "    print(\"Predikat IPK Anda = Cukup\")\n",
        "else:\n",
        "    print(\"Tidak lulus\")\n"
      ],
      "metadata": {
        "colab": {
          "base_uri": "https://localhost:8080/"
        },
        "id": "y5LT8L1AtZ0U",
        "outputId": "48904df3-6e1d-4da6-96ac-a02c39d3c2d5"
      },
      "execution_count": 1,
      "outputs": [
        {
          "output_type": "stream",
          "name": "stdout",
          "text": [
            "Masukan IPK Anda = 3.8\n",
            "Predikat IPK Anda = Cum Laude\n"
          ]
        }
      ]
    },
    {
      "cell_type": "code",
      "source": [
        "while True: \n",
        "  angka = int(input(\"Masukan Angka= \")) \n",
        "  if angka >=1 and angka <=100: \n",
        "    print('Angka valid') \n",
        "  else:\n",
        "    print('Angka Tidak valid') \n",
        "    break"
      ],
      "metadata": {
        "colab": {
          "base_uri": "https://localhost:8080/"
        },
        "id": "zLr1fIXB1xWh",
        "outputId": "cbe2439e-c0b9-44f9-c9ce-b5690e8fcb14"
      },
      "execution_count": 2,
      "outputs": [
        {
          "output_type": "stream",
          "name": "stdout",
          "text": [
            "Masukan Angka= 98\n",
            "Angka valid\n",
            "Masukan Angka= 105\n",
            "Angka Tidak valid\n"
          ]
        }
      ]
    },
    {
      "cell_type": "code",
      "source": [
        "email= input(\"Masukkan Email Anda= \") \n",
        "if len(email) < 5:\n",
        "  print('Email terlalu pendek')\n",
        "elif '@' not in email:\n",
        "  print('harus mengandung @')\n",
        "elif '.com' not in email:\n",
        "  print('Ekstensi domain tidak valid')\n",
        "else:\n",
        "  print('Email Valid')\n",
        " "
      ],
      "metadata": {
        "colab": {
          "base_uri": "https://localhost:8080/"
        },
        "id": "JEMXD-sM7HzM",
        "outputId": "52e9bcc9-2dd4-46cc-9a7b-be7e6f9207ac"
      },
      "execution_count": 3,
      "outputs": [
        {
          "output_type": "stream",
          "name": "stdout",
          "text": [
            "Masukkan Email Anda= rahayueka123@gmail\n",
            "Ekstensi domain tidak valid\n"
          ]
        }
      ]
    },
    {
      "cell_type": "code",
      "source": [
        "count=0 #variabel count untuk menyimpan jumlah string yang memenuhi kondisi\n",
        "negara = ['Indonesia', 'Malaysia', 'Thailand', 'China', 'Denmark']\n",
        "for i in range(len(negara)):\n",
        "    if(negara[i][-1] == \"a\"): \n",
        "        count += 1 \n",
        "print('jumlah negara yang berahkiran huruf a =',count) "
      ],
      "metadata": {
        "colab": {
          "base_uri": "https://localhost:8080/"
        },
        "id": "d7JJOnrTD7_w",
        "outputId": "40693a58-a586-4013-a8ed-b8866b1fcd23"
      },
      "execution_count": 4,
      "outputs": [
        {
          "output_type": "stream",
          "name": "stdout",
          "text": [
            "jumlah negara yang berahkiran huruf a = 3\n"
          ]
        }
      ]
    },
    {
      "cell_type": "code",
      "source": [
        "angka = [1,2,3,4,5,6,7,8,9,10]\n",
        "angka_terbalik = angka[::-1] \n",
        "print(angka_terbalik)"
      ],
      "metadata": {
        "colab": {
          "base_uri": "https://localhost:8080/"
        },
        "id": "YEXuQyX44HCu",
        "outputId": "9b2ac9c7-4b7c-44d5-9269-ec3b7c63026b"
      },
      "execution_count": 5,
      "outputs": [
        {
          "output_type": "stream",
          "name": "stdout",
          "text": [
            "[10, 9, 8, 7, 6, 5, 4, 3, 2, 1]\n"
          ]
        }
      ]
    },
    {
      "cell_type": "code",
      "source": [
        "angka = [1,2,3,4,5,6,7,8,9,10]\n",
        "angka_genap = [num for num in angka if num % 2 == 0]\n",
        "print(angka_genap)"
      ],
      "metadata": {
        "colab": {
          "base_uri": "https://localhost:8080/"
        },
        "id": "C8drIhmTGN-1",
        "outputId": "5c405e3d-62a9-41aa-fbff-29e5f691750a"
      },
      "execution_count": 7,
      "outputs": [
        {
          "output_type": "stream",
          "name": "stdout",
          "text": [
            "[2, 4, 6, 8, 10]\n"
          ]
        }
      ]
    },
    {
      "cell_type": "code",
      "source": [
        "angka = [1,2,3,4,5,6,7,8,9,10]\n",
        "angka_ganjil = [num for num in angka if num % 2 != 0]\n",
        "print(angka_ganjil)"
      ],
      "metadata": {
        "colab": {
          "base_uri": "https://localhost:8080/"
        },
        "id": "r9oVpyJsHKCB",
        "outputId": "04207c7b-ae73-4067-87ec-072c92f3558b"
      },
      "execution_count": 9,
      "outputs": [
        {
          "output_type": "stream",
          "name": "stdout",
          "text": [
            "[1, 3, 5, 7, 9]\n"
          ]
        }
      ]
    },
    {
      "cell_type": "code",
      "source": [
        "hewan = [\"Kelinci\", \"Harimau\", \"Ayam\"]\n",
        "jenis = [\"Herbivora\", \"Karnivora\", \"Omnivora\"]\n",
        "\n",
        "for hewan, jenis in zip(hewan, jenis):\n",
        "  print(f\" {hewan} adalah hewan {jenis}\")"
      ],
      "metadata": {
        "colab": {
          "base_uri": "https://localhost:8080/"
        },
        "id": "p55H4i7SE8aT",
        "outputId": "03d59b7a-02cc-430d-a5b7-827dc89a59fb"
      },
      "execution_count": 6,
      "outputs": [
        {
          "output_type": "stream",
          "name": "stdout",
          "text": [
            " Kelinci adalah hewan Herbivora\n",
            " Harimau adalah hewan Karnivora\n",
            " Ayam adalah hewan Omnivora\n"
          ]
        }
      ]
    }
  ]
}